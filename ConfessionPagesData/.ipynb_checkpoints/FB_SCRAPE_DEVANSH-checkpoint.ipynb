{
 "cells": [
  {
   "cell_type": "code",
   "execution_count": 179,
   "metadata": {},
   "outputs": [],
   "source": [
    "import pandas as pd\n"
   ]
  },
  {
   "cell_type": "code",
   "execution_count": 180,
   "metadata": {},
   "outputs": [],
   "source": [
    "import time\n",
    "\n",
    "from selenium import webdriver\n",
    "from selenium.webdriver.common.keys import Keys\n",
    "from selenium.webdriver.chrome.options import Options\n",
    "\n",
    "from bs4 import BeautifulSoup\n",
    "\n",
    "\n",
    "\n",
    "chrome_options = Options()\n",
    "chrome_options.add_argument(\"--headless\")\n",
    "browser = webdriver.Chrome('/usr/lib/chromium-browser/chromedriver',chrome_options=chrome_options)\n",
    "\n"
   ]
  },
  {
   "cell_type": "code",
   "execution_count": 181,
   "metadata": {},
   "outputs": [],
   "source": [
    "handle = \"IIIT-Confessions-21304442216966\"\n",
    "browser.get(\"https://m.facebook.com/\"+str(handle))\n",
    "time.sleep(2)\n"
   ]
  },
  {
   "cell_type": "code",
   "execution_count": 182,
   "metadata": {},
   "outputs": [],
   "source": [
    "\n",
    "# elem = browser.find_element_by_tag_name(\"body\")\n",
    "\n",
    "\n",
    "# post_set = ()\n",
    "\n",
    "# while True:\n",
    "#\t try:\n",
    "#\t\t browser.execute_script(\"window.scrollTo(0, document.body.scrollHeight);\")\n",
    "#\t\t # for element in browser.find_elements_by_tag_name('div'):\n",
    "#\t\t # post_set.add(browser.find_element_by_tag_name('div').text)\n",
    "#\t\t print browser.find_element_by_tag_name('div').text\n",
    "#\t except:\n",
    "#\t\t continue\n"
   ]
  },
  {
   "cell_type": "code",
   "execution_count": 183,
   "metadata": {},
   "outputs": [
    {
     "name": "stdout",
     "output_type": "stream",
     "text": [
      "Scroll 1\n",
      "done\n"
     ]
    }
   ],
   "source": [
    "scrollCount = 0\n",
    "lastHeight = browser.execute_script(\"return document.body.scrollHeight\")\n",
    "while True:\n",
    "\tscrollCount += 1\n",
    "\tprint(\"Scroll \"+str(scrollCount))\n",
    "\tbrowser.execute_script(\"window.scrollTo(0, document.body.scrollHeight);\")\n",
    "\ttime.sleep(3)\n",
    "\tnewHeight = browser.execute_script(\"return document.body.scrollHeight\")\n",
    "\tif newHeight == lastHeight:\n",
    "\t\tbreak\n",
    "\tlastHeight = newHeight\n",
    "\n",
    "print (\"done\")\n"
   ]
  },
  {
   "cell_type": "code",
   "execution_count": 184,
   "metadata": {},
   "outputs": [],
   "source": [
    "html = browser.page_source\n",
    "soup = BeautifulSoup(html,'html')"
   ]
  },
  {
   "cell_type": "code",
   "execution_count": 185,
   "metadata": {},
   "outputs": [],
   "source": [
    "all_confessions_divs = soup.find_all(\"div\",{'class':'_55wo _56bf _58k5'})"
   ]
  },
  {
   "cell_type": "code",
   "execution_count": 186,
   "metadata": {},
   "outputs": [],
   "source": [
    "data = {'Number':[],'Text':[], 'Date':[], 'Time':[], 'Likes':[], 'Comments':[]}\n",
    "\n",
    "for confession in all_confessions_divs:\n",
    "    number = \"-\"\n",
    "    text = \"-\"\n",
    "    date = \"-\"\n",
    "    likes = \"-\"\n",
    "    comments = \"-\"\n",
    "    data['Number'].append(number)\n",
    "    data['Text'].append(text)\n",
    "    data['Date'].append(date)\n",
    "    data['Time'].append(time)\n",
    "    data['Likes'].append(likes)\n",
    "    data['Comments'].append(comments)\n",
    "    try:\n",
    "        number =  [p.text for p in confession.find(\"div\",{'class':'_5rgt _5nk5 _5msi'}).find(\"span\").find_all(\"p\")][0] \n",
    "        if \"#\" in str(number.encode('utf-8')):\n",
    "#             print number\n",
    "            number = number.split(' ',1)\n",
    "            text = str(number[1])\n",
    "            number = number[0]\n",
    "            \n",
    "            \n",
    "            try:\n",
    "                text += [p.text.strip().encode('utf-8') for p in confession.find(\"div\",{'class':'_5rgt _5nk5 _5msi'}).find(\"span\").find_all(\"p\")][1]\n",
    "            except:\n",
    "                text += [p.text.strip().encode('utf-8') for p in confession.find(\"div\",{'class':'_5rgt _5nk5 _5msi'}).find(\"span\").find_all(\"p\")][0]\n",
    "            \n",
    "            \n",
    "            dateandtime = confession.find(\"div\",{'class':'_52jc _5qc4 _24u0 _36xo'}).find('a').text\n",
    "            date = dateandtime.split('at')[0].strip()\n",
    "            time = dateandtime.split('at')[1].strip()\n",
    "#             likes = all_confessions_divs[1].find(\"span\",{'class':'like_def _28wy'}).text.strip()\n",
    "#             comments = all_confessions_divs[1].find(\"span\",{'class':'cmt_def _28wy'}).text.strip()\n",
    "            \n",
    "            \n",
    "            \n",
    "            data['Number'][-1]=number\n",
    "            data['Text'][-1]=text\n",
    "            data['Date'][-1]=date\n",
    "            data['Time'][-1]=time\n",
    "            data['Likes'][-1]=likes\n",
    "            data['Comments'][-1]=comments\n",
    "            \n",
    "#             print number\n",
    "#             print text            \n",
    "#             print date            \n",
    "#             print time            \n",
    "#             print likes            \n",
    "#             print comments            \n",
    "#             print \"====\"\n",
    "\n",
    "    \n",
    "    except: \n",
    "        try:\n",
    "            number = [p.text for p in confession.find(\"div\",{'class':'_5rgt _5nk5 _5msi'}).find(\"span\").find_all(\"p\")][0]\n",
    "        except:\n",
    "            continue\n",
    "        if \"#\" in str(number.encode('utf-8')):\n",
    "            number = number.split(' ',1)\n",
    "            if len(number)>1:\n",
    "                text = str(number[1].encode('utf-8'))\n",
    "            else:\n",
    "                text =  \"\"\n",
    "            number = number[0]\n",
    "            \n",
    "            try:\n",
    "                text += [p.text.strip().encode('utf-8') for p in confession.find(\"div\",{'class':'_5rgt _5nk5 _5msi'}).find(\"span\").find_all(\"p\")][1]\n",
    "            except:\n",
    "                text += [p.text.strip().encode('utf-8') for p in confession.find(\"div\",{'class':'_5rgt _5nk5 _5msi'}).find(\"span\").find_all(\"p\")][0]\n",
    "                \n",
    "            \n",
    "            \n",
    "            dateandtime = confession.find(\"div\",{'class':'_52jc _5qc4 _24u0 _36xo'}).find('a').text\n",
    "            date = dateandtime.split('at')[0].strip()\n",
    "            time = dateandtime.split('at')[1].strip()\n",
    "#             likes = all_confessions_divs[1].find(\"span\",{'class':'like_def _28wy'}).text.strip()\n",
    "#             comments = all_confessions_divs[1].find(\"span\",{'class':'cmt_def _28wy'}).text.strip()\n",
    "            \n",
    "            data['Number'][-1]=number\n",
    "            data['Text'][-1]=text\n",
    "            data['Date'][-1]=date\n",
    "            data['Time'][-1]=time\n",
    "            data['Likes'][-1]=likes\n",
    "            data['Comments'][-1]=comments\n",
    "            \n",
    "            print number\n",
    "            print text            \n",
    "            print date            \n",
    "            print time            \n",
    "            print likes            \n",
    "            print comments            \n",
    "            print \"====\"\n",
    "            \n",
    "        print \"--\"\n",
    "        continue\n",
    "        \n",
    "    "
   ]
  },
  {
   "cell_type": "code",
   "execution_count": 187,
   "metadata": {},
   "outputs": [
    {
     "name": "stdout",
     "output_type": "stream",
     "text": [
      "Index([u'Comments', u'Date', u'Likes', u'Number', u'Text', u'Time'], dtype='object')\n"
     ]
    }
   ],
   "source": [
    "df = pd.DataFrame(data)\n",
    "print df.keys()\n",
    "df.to_csv(str(handle)+\".csv\", sep='\\t', encoding='utf-8')\n",
    "browser.quit()"
   ]
  }
 ],
 "metadata": {
  "kernelspec": {
   "display_name": "Python 2",
   "language": "python",
   "name": "python2"
  },
  "language_info": {
   "codemirror_mode": {
    "name": "ipython",
    "version": 2
   },
   "file_extension": ".py",
   "mimetype": "text/x-python",
   "name": "python",
   "nbconvert_exporter": "python",
   "pygments_lexer": "ipython2",
   "version": "2.7.12"
  }
 },
 "nbformat": 4,
 "nbformat_minor": 2
}
