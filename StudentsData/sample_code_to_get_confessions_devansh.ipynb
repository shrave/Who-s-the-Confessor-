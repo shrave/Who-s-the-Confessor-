{
 "cells": [
  {
   "cell_type": "code",
   "execution_count": 17,
   "metadata": {},
   "outputs": [],
   "source": [
    "import time\n",
    "\n",
    "from selenium import webdriver\n",
    "from selenium.webdriver.common.keys import Keys\n",
    "from bs4 import BeautifulSoup\n",
    "\n",
    "browser = webdriver.Chrome('/usr/lib/chromium-browser/chromedriver')\n",
    "\n",
    "browser.get(\"https://m.facebook.com/iiithconfrevampd/\")\n",
    "time.sleep(1)\n",
    "\n",
    "elem = browser.find_element_by_tag_name(\"body\")\n",
    "\n",
    "no_of_pagedowns = 5\n",
    "lastHeight = browser.execute_script(\"return document.body.scrollHeight\")\n",
    "\n",
    "while no_of_pagedowns:\n",
    "    browser.execute_script(\"window.scrollTo(0, document.body.scrollHeight);\")\n",
    "    time.sleep(1)\n",
    "    newHeight = browser.execute_script(\"return document.body.scrollHeight\")\n",
    "    if newHeight == lastHeight:\n",
    "        break\n",
    "    lastHeight = newHeight\n",
    "    no_of_pagedowns-=1\n",
    "\n",
    "\n",
    "\n"
   ]
  },
  {
   "cell_type": "code",
   "execution_count": 21,
   "metadata": {},
   "outputs": [],
   "source": [
    "html = browser.page_source\n",
    "\n",
    "soup = BeautifulSoup(html,'html')\n",
    "\n",
    "alldivs = soup.find_all(\"div\",{'class':'_5rgt _5nk5 _5msi'})\n"
   ]
  },
  {
   "cell_type": "code",
   "execution_count": 26,
   "metadata": {},
   "outputs": [
    {
     "name": "stdout",
     "output_type": "stream",
     "text": [
      "Well, The old confession pages have gone inactive and my group has thought to create a new one instead! Do mention your year of joining 😝 and gender https://docs.google.com/forms/d/e/1FAIpQLSdTGzExAN70kixj2ipNj_MmlvxBki3SWt7VkPNaBWZ938rewg/viewform?usp=sf_link\n",
      "---\n",
      "#133 Admin pls make this the hat-trick confession for Manu sir! :\") Thank you for all the help sir!! #BestApex #BestSenior #BestIT_TA UG2-F Admin: Le bana diya. Khush. Also Admin: Manu sir _/\\_. Sir aapke naam se Wikipedia page banni chahiye.....\n",
      "---\n",
      "#132 @Admin, fan follwing ka mai nai keh skti, but Manuuu sir ke lie pyar mera badh raha hai. Sir, naam mera A se suru hta h. ❤️ UG1-F Admin: Manu sir _/\\_..... #ManuSirTheLegendary\n",
      "---\n",
      "#131 Manuuuu Sir, wil u pls dedicate a song fr me in d iiit unplugged? I saw ur \"Shaaam\" Video frm 2017, it is amazeeee!! https://youtu.be/jZkdKiXNgyM Kya feel h is gane mein ❤️ UG1-F Admin: Manu sir _/\\_. Fanbase badh raha hai aapka.\n",
      "---\n",
      "#130 Bhai AAD ki party mat maango bey. Pehle hi debit ke vaandhe hain. UG3-M Admin: I know who you are.\n",
      "---\n",
      "#129 Yash sir! You have never taken my intro but I always wished you did it because I never got a chance to talk to you. Also, you are cute. Please comment if you are interested in meeting me.... UG1-F Admin: He'd rather be with OCB than anybody else or anything else.\n",
      "---\n",
      "#128 I am deeply in love with a PG1 girl. I see her everyday in the library or in the Kadamba mess. She's really cute and has the best curves in the world. One day i saw her in JC in a yellow top and I fell head-over-heels for her. Ma'am can we meet in JC? 12am tonight, Avocado's on me. UG1-M Admin: *sings* \"Pyaaar hua ikraar hua hai Pyaar se phir kyu darta hai dil.....\"\n",
      "---\n",
      "#127 Why are we not stopping sir-ma'am culture? It's really unnecessary and I don't want to call my seniors as sir neither I want my juniors to call me sir. I think most of the people think like this but they just don't want to speak. Male. Admin: How about it when you find a bro-sis smash?\n",
      "---\n",
      "#126 I know I won't be the only one to say this to this UG3 girl but I so have to. Everytime I see you I am mesmerized by your simplicity, beauty and, yes, that smile 😉. You're adorable and I just can't take my eyes off you. Can we be friends ? UG4-M Admin: Ohohoho #score_max\n",
      "---\n",
      "#125 Rizwan Ali, I don't know who you are and what you want, but please stop sending me friend request again and again. It's very annoying. I'll accept when I'll come to know who you are. But till then please stop... PG1-F Admin: Rizwan Ali toh humko bhi nahi dikhta aajkal.\n",
      "---\n",
      "#124 Hi all, This is regarding #121. If it is genuine, and I really think it is, it may be something to be concerned about. I sincerely recommend you to talk about this to a senior(preferably UG2 because same hostel), anyone who you think can help you with this. We will all be happy to help. Cheer up! - your friend from UG2 Admin: You are being heard. You'll be heard more often now.\n",
      "---\n",
      "#123 Manu sir, aapka YouTube channel dekhne ke baad \"Mai toh teri fann ban gayi\"!!!  HOW DO YOU PLAY SO MANY INSTRUMENTS????? When can we see you perform live in college? <3  UG1-F Admin: Devansh Manu sir _/\\_ Aapko toh trending pe hona chahiye. Beta, Sir toh perform karte rahenge.\n",
      "---\n",
      "#122 Why are most people in this college so greedy? I am really fed up with these people. They dont help anyone. Many people really insult others of same batch infront of juniors and this should be stopped. UG4-M Admin: PPO laga hai kya tumhaara? Padh lo.\n",
      "---\n",
      "#121 I have been feeling very lonely recently. I am a kind of shy person so I need some time to become comfortable with people, when college started everyone were talking with me and as time passed they slowly started dividing into groups and are always hanging out with their friends circle.When I try to join few people now the situation becomes… More awkward as i don't understand half of what they are talking as it will be some kind of their internal conversation, there are only one or two people who talk to me and I have no friends other than them. UG1 student. Admin: Shit just got real. Pretty serious. You'll be heard.\n",
      "---\n",
      "#120 The requirements to be a good boyfriend are invited from girls. So that I can judge myself that to whom I am fit as a boyfriend. The requirements will also help us to change ourselves to be fit for our crushes. So girls comment on this as much as possible for you. This is basic need of each single. UG1-M Admin: Please read up Her Wiseness Ms. Wendy.\n",
      "---\n",
      "#119 I really like a girl from UG-1, her name is Fiza and she is really beautiful. Though I have never talked to her, we had small conversations regarding minor issues like she asked me if the chair beside me was empty. I think she is really cute and should have been the Miss Flair. Nevertheless, I am the one who clicks the best pics in the batch and am learning Guitar to impress you. Please talk to me when I approach you! UG1-M Admin: Chair? Really? No more comments.\n",
      "---\n",
      "#118 I have a crush on a boy from UG1 who has curly hair and is really smart. He sings well and can also dance. I see him almost everyday but never even had the guts to ask his name. He always roams with other girls which I don't like at all. I just want him to notice me and spend time with me. He is from prithvi house. UG1-F Admin: Go ask him out. Poochhna akele ladkon ka hi haq nahi hai re.\n",
      "---\n",
      "#117 Ishita , You are the cutest person I have ever seen. Your sweet smile and child like innocence melts my heart. I will love to take you out on a date to your favourite restaurant eating your favourite food. Can we hang out once? UG2-M 😁😁\n",
      "---\n",
      "#116 Whos that UG2 guy that spends his time in the library, he's so cutie just like a small squishy teddy bear with big glasses and neat hair. He looks so innocent and focused, always studying. please take your eyes off the books and read me, I want to play with you UG1-F 😂😂😂 I might know who that is 😏😏\n",
      "---\n"
     ]
    }
   ],
   "source": [
    "for div in alldivs:\n",
    "    span = div.find(\"span\").find_all(\"p\")\n",
    "    conf = \"\"\n",
    "    for p in span:\n",
    "        conf += p.text\n",
    "    print conf\n",
    "    print \"---\""
   ]
  }
 ],
 "metadata": {
  "kernelspec": {
   "display_name": "Python 2",
   "language": "python",
   "name": "python2"
  },
  "language_info": {
   "codemirror_mode": {
    "name": "ipython",
    "version": 2
   },
   "file_extension": ".py",
   "mimetype": "text/x-python",
   "name": "python",
   "nbconvert_exporter": "python",
   "pygments_lexer": "ipython2",
   "version": "2.7.12"
  }
 },
 "nbformat": 4,
 "nbformat_minor": 2
}
