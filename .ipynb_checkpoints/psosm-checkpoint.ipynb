{
 "cells": [
  {
   "cell_type": "code",
   "execution_count": 1,
   "metadata": {},
   "outputs": [
    {
     "ename": "IOError",
     "evalue": "[Errno 2] No such file or directory: 'IIIT-H Confessions-revampd'",
     "output_type": "error",
     "traceback": [
      "\u001b[0;31m---------------------------------------------------------------------------\u001b[0m",
      "\u001b[0;31mIOError\u001b[0m                                   Traceback (most recent call last)",
      "\u001b[0;32m<ipython-input-1-3a6c0776bca7>\u001b[0m in \u001b[0;36m<module>\u001b[0;34m()\u001b[0m\n\u001b[1;32m      5\u001b[0m \u001b[0;32mfrom\u001b[0m \u001b[0mspacy\u001b[0m \u001b[0;32mimport\u001b[0m \u001b[0mdisplacy\u001b[0m\u001b[0;34m\u001b[0m\u001b[0m\n\u001b[1;32m      6\u001b[0m \u001b[0mnlp\u001b[0m \u001b[0;34m=\u001b[0m \u001b[0mspacy\u001b[0m\u001b[0;34m.\u001b[0m\u001b[0mload\u001b[0m\u001b[0;34m(\u001b[0m\u001b[0;34m'en'\u001b[0m\u001b[0;34m)\u001b[0m\u001b[0;34m\u001b[0m\u001b[0m\n\u001b[0;32m----> 7\u001b[0;31m \u001b[0mconfessions\u001b[0m \u001b[0;34m=\u001b[0m \u001b[0mopen\u001b[0m\u001b[0;34m(\u001b[0m\u001b[0;34m'IIIT-H Confessions-revampd'\u001b[0m\u001b[0;34m)\u001b[0m\u001b[0;34m\u001b[0m\u001b[0m\n\u001b[0m\u001b[1;32m      8\u001b[0m \u001b[0mconfessions\u001b[0m \u001b[0;34m=\u001b[0m \u001b[0mconfessions\u001b[0m\u001b[0;34m.\u001b[0m\u001b[0mreadlines\u001b[0m\u001b[0;34m(\u001b[0m\u001b[0;34m)\u001b[0m\u001b[0;34m\u001b[0m\u001b[0m\n\u001b[1;32m      9\u001b[0m \u001b[0mconfessions\u001b[0m \u001b[0;34m=\u001b[0m \u001b[0;34m[\u001b[0m\u001b[0mj\u001b[0m\u001b[0;34m[\u001b[0m\u001b[0;34m:\u001b[0m\u001b[0;34m-\u001b[0m\u001b[0;36m1\u001b[0m\u001b[0;34m]\u001b[0m \u001b[0;32mfor\u001b[0m \u001b[0mj\u001b[0m \u001b[0;32min\u001b[0m \u001b[0mconfessions\u001b[0m\u001b[0;34m]\u001b[0m\u001b[0;34m\u001b[0m\u001b[0m\n",
      "\u001b[0;31mIOError\u001b[0m: [Errno 2] No such file or directory: 'IIIT-H Confessions-revampd'"
     ]
    }
   ],
   "source": [
    "# -*- coding: utf-8 -*-\n",
    "import emoji\n",
    "import spacy \n",
    "import operator\n",
    "from spacy import displacy\n",
    "nlp = spacy.load('en')\n",
    "confessions = open('IIIT-H Confessions-revampd')\n",
    "confessions = confessions.readlines()\n",
    "confessions = [j[:-1] for j in confessions]"
   ]
  },
  {
   "cell_type": "code",
   "execution_count": null,
   "metadata": {},
   "outputs": [],
   "source": [
    "def convert_unicode(text):\n",
    "\ttext = text.decode('utf-8', 'ignore')\n",
    "\treturn text\n",
    "\n",
    "\n",
    "def dict_sort_des(diction):\n",
    "\tsorted_d = sorted(diction.items(), key=operator.itemgetter(1),reverse=True)\n",
    "\treturn sorted_d"
   ]
  },
  {
   "cell_type": "code",
   "execution_count": null,
   "metadata": {},
   "outputs": [],
   "source": [
    "posts = []\n",
    "for k in range(len(confessions)):\n",
    "\t# print repr(confessions[k])\n",
    "\tif confessions[k]=='IIIT-H Confessions':\n",
    "\t\tconfession = {}\n",
    "\t\tconfession['date-time'] = confessions[k+1] \n",
    "\t\tconfession['id'] = confessions[k+2]\n",
    "\t\ttemp_list = []\n",
    "\t\tl = k+3\n",
    "\t\twhile (confessions[l]!= 'IIIT-H Confessions'):\n",
    "\t\t\ttemp_list.append(confessions[l])\n",
    "\t\t\t# if ('like' in confessions[l].lower()) or ('comment' in confessions[l].lower()):\n",
    "\t\t\t# \tbreak\n",
    "\t\t\t# print confessions[l]\n",
    "\t\t\tif l==(len(confessions)-1):\n",
    "\t\t\t\tbreak\n",
    "\t\t\tl +=1\n",
    "\t\tif not temp_list:\n",
    "\t\t\tprint confessions[l]\n",
    "\t\t# print temp_list\n",
    "\t\tif ('like' in temp_list[-1].lower()) or ('comment' in temp_list[-1].lower()):\n",
    "\t\t\ttemp_list = temp_list[:-1]\n",
    "\t\tif temp_list:\n",
    "\t\t\tconfession['admin-notes'] = temp_list[-1]\n",
    "\t\tconfession['confession'] = '. '.join(temp_list)\n",
    "\t\t# print confession\n",
    "\tif confession not in posts:\n",
    "\t\tposts.append(confession)\n",
    "\n",
    "print len(posts)\n",
    "for post in posts:\n",
    "\tif post['id'][0]!= '#':\n",
    "\t\tposts.remove(post)\n",
    "\n",
    "import spacy \n",
    "nlp = spacy.load('en')\n",
    "\n",
    "for post in posts:\n",
    "\t# if not post['confession']:\n",
    "\tdocument = nlp(convert_unicode(post['confession']))\n",
    "\tner_list = []\n",
    "\tfor ent in document.ents:\n",
    "\t\tner_list.append((ent.text, ent.label_))\n",
    "\tpost['Named Entity Tags'] = ner_list"
   ]
  },
  {
   "cell_type": "code",
   "execution_count": null,
   "metadata": {
    "scrolled": false
   },
   "outputs": [],
   "source": [
    "for post in posts:\n",
    "\tdocument = nlp(convert_unicode(post['confession']))\n",
    "\tdisplacy.render(document, style='dep', jupyter=True, options={'distance': 100})"
   ]
  },
  {
   "cell_type": "code",
   "execution_count": null,
   "metadata": {},
   "outputs": [],
   "source": []
  }
 ],
 "metadata": {
  "kernelspec": {
   "display_name": "Python 2",
   "language": "python",
   "name": "python2"
  },
  "language_info": {
   "codemirror_mode": {
    "name": "ipython",
    "version": 2
   },
   "file_extension": ".py",
   "mimetype": "text/x-python",
   "name": "python",
   "nbconvert_exporter": "python",
   "pygments_lexer": "ipython2",
   "version": "2.7.15rc1"
  }
 },
 "nbformat": 4,
 "nbformat_minor": 2
}
